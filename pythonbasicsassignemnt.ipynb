{
  "nbformat": 4,
  "nbformat_minor": 0,
  "metadata": {
    "colab": {
      "provenance": []
    },
    "kernelspec": {
      "name": "python3",
      "display_name": "Python 3"
    },
    "language_info": {
      "name": "python"
    }
  },
  "cells": [
    {
      "cell_type": "markdown",
      "source": [
        "Python Basics Assignment-1\n"
      ],
      "metadata": {
        "id": "oNBTOqLHZVuS"
      }
    },
    {
      "cell_type": "markdown",
      "source": [
        "1.What is Python, and why is it popular?\n",
        "  - Python is a high-level, interpreted programming language known for its readability and simplicity.Popular because:\n",
        "  -Easy syntax (like English),\n",
        "  -Large community and libraries,its Versatility(used in web, data science, automation, etc.)\n",
        "  -An example code in python print(\"Hello, Python!\") Which is Simple and readable.\n",
        "\n",
        "2.What is an interpreter in Python?\n",
        "  - An interpreter reads and executes Python code line by line, translating it into machine instructions.\n",
        "  - This allows for quick testing and debugging.\n",
        "\n",
        "3.What are pre-defined keywords in Python?\n",
        "  - Keywords are reserved words that Python uses for its syntax and structure. You can't use them for variable names or functions.\n",
        "  - examples:if,else,for,while,def,class,return,True,false,None\n",
        "\n",
        "4.Can keywords be used as variable names?\n",
        "  - No,We can't use keywords as variable names causes a syntax error because they have predefined roles.\n",
        "  - An sample code:\n",
        "  - code:-class =\"Math\" x which is invalid because 'class' is a reserved keyword.\n",
        "  The above code is wrong to fix it,we just use a non-keyword name for the vairable.The correct code is\n",
        "  - code:-Subject =\"Math\" #valid\n",
        "\n",
        "5.What is mutability in Python?\n",
        "  - Mutability refers to wheter an object' Content can be changed after its Created.                               \n",
        "  \n",
        "  - Mutable objects:Lists,dictionaries,sets\n",
        "  - Immutable objects: Tuples, Strings, integers.\n",
        "\n",
        "6.Why are lists mutable, but tuples are immutable?\n",
        "  -Lists are Designed for dynamic data-you can add,remove, or change elements.Tuples are fixed collections,often used for data that shouldn't change.\n",
        "  Example:-The below codes is an example of the Lists and Tuples.The first one below is the Lists and second one is Tuples.\n",
        "  -  1.my_list = [1, 2, 3] # A list with 3 elements\n",
        "  - my_list[0] = 10     # Changing the first element to 10\n",
        "  - print(my_list).     #  Output: [10,2,3].\n",
        "  - In the above code You can u update,add,remove items in an certain list.Lists are good when your data needs to change.\n",
        "  - The below code is an example for the tuples which are immutable\n",
        "  This means you cannot cahnge their elements once created.\n",
        "  - my_tuple =(1,2,3)  #This is an tuple with 3 elements\n",
        "  - my_tuple[0]= 10    # x This will raise a Typerror.\n",
        "  - The Above code is an example of Tuples which are Immutable Because,Tuples are fixed and cannot be modified.They are useful when you want to protect data from being changed.\n",
        "\n",
        "7.What is the difference between “==” and “is” operators in Python?\n",
        "  - The \"==\" operator checks if two Variables Have the same value.It compares the contents of the objects.Use \"==\"when you want to compare Values.\n",
        "  - The \"is\" Operator checks if two variables refer to the same object in memory.It Compares the identity of the objects.use \"is\" when you want to check if two variables point to the same object in memory.\n",
        "  - An example code for the above operators is\n",
        "  -\n",
        "  a= [1,2,3]\n",
        "    \n",
        "  b= [1,2,3]\n",
        "  \n",
        "  a==b  #True,Because both lists have the same values.\n",
        "  a is b # False,Because they are two diffent objects in memory.\n",
        "  \n",
        "  -Here,This operators checks:\n",
        "  Do both lists have the same values?\n",
        "  yes- both have[1,2,3]\n",
        "  so,a==b is True.\n",
        "  Are a and b the exact same object in memory?\n",
        "  No- They are two diffent lists stored in diffent memory locations so,a is b is false.\n",
        "\n",
        "8.What are logical operators in Python\n",
        "  - Logical Operators are used to combine multiple conditions and return a Boolean value(True or False).Python has three main logical operators:\n",
        "\n",
        "  - and - Returns True if both conditions are true.\n",
        "\n",
        "  - or  - Returns True if at least one condtions is true.\n",
        "\n",
        "  - not - Reverses the Result(i.e.,True becomes False,and Vice versea).\n",
        "\n",
        "9.What is type casting in Python\n",
        "  - Type Casting means Converting one data type into another,Like from string to integer or float.\n",
        "\n",
        "10.What is the difference between implicit and explicit type casting\n",
        "  - Implicit: Python automatically converts types.\n",
        "  - Example:\n",
        "\n",
        "  x =5 + 3.0 # Result is 8.0\n",
        "  \n",
        "  - Explicit: You Manually Convert using functions like int(),float(),str().\n",
        "  \n",
        "  - Example:\n",
        "  \n",
        "  y = float(7) # Converts integer to float - 7.0\n",
        "\n",
        "11.What is the purpose of conditional statements in Python\n",
        "  - Conditional Statements allow Your Program to Make decisions based on conditions.\n",
        "  - Example: age=18\n",
        "             if age >= 18:\n",
        "             print(\"You are adult\") # Output is your an adult.\n",
        "\n",
        "12.How does the elif statement work\n",
        "  - Elif stands for \"else if\" and used to check another condition if the first if False.\n",
        "  - Example:\n",
        "  Score= 75\n",
        "   if score >= 90:\n",
        "      print(\"A Grade\")\n",
        "   elif score >= 70:\n",
        "      print(\"B Grade\")\n",
        "   else:\n",
        "      print(\"C Grade\").\n",
        "  # Output will be \"B Grade\".\n",
        "\n",
        "13.What is the difference between for and while loops?\n",
        "  - For loop: Used when you know how many times to repeat.\n",
        "  \n",
        "  Code:\n",
        "  for i in range(3):\n",
        "       print(i) # 0,1,2\n",
        "\n",
        "- While loop:Used when you repeat until a condition becomes False.\n",
        "   Code:i = 0\n",
        "while i < 5:\n",
        "    print(i)\n",
        "    i += 1\n",
        "  # Output prints 0 to 4 numbers,based on the condition.\n",
        "\n",
        "\n",
        "14.Describe a scenario where a while loop is more suitable than a for loop\n",
        "   - Use whule when you dont know how many times looop will run.\n",
        "   - Example:\n",
        "              password =\" \"\n",
        "              while passowrd !=\"admin\"\n",
        "              password = input(\"Enter password: \")\n",
        "\n",
        "\n",
        "   - This loop keeps runing intil the correct passoword by the user is enterd correct passowrd is entered - perfect for while.\n",
        "\n",
        "\n",
        "  \n",
        "\n",
        "\n",
        "  "
      ],
      "metadata": {
        "id": "QLHqOv02ZjQq"
      }
    },
    {
      "cell_type": "markdown",
      "source": [
        "   PRACTICAL QUESTIONS\n"
      ],
      "metadata": {
        "id": "MHGyxkqRFbr_"
      }
    },
    {
      "cell_type": "code",
      "source": [
        "# 1. Write a Python program to print \"Hello, World!\n",
        "print(\"Hello, World!\")\n"
      ],
      "metadata": {
        "id": "IW1NFGEGGhiK"
      },
      "execution_count": null,
      "outputs": []
    },
    {
      "cell_type": "markdown",
      "source": [],
      "metadata": {
        "id": "EbWOdMLCGm3_"
      }
    },
    {
      "cell_type": "code",
      "metadata": {
        "id": "179c10ce"
      },
      "source": [
        "# 2. Write a Python program that displays your name and age.\n",
        "name = \"xyz\"        # Replace with your name\n",
        "age = 30            # Replace with your age\n",
        "print(f\"My name is {xyz} and I am {30} years old.\")"
      ],
      "execution_count": null,
      "outputs": []
    },
    {
      "cell_type": "code",
      "metadata": {
        "id": "4957229a"
      },
      "source": [
        "# 3. Write code to print all the pre-defined keywords in Python using the keyword library\n",
        "import keyword\n",
        "print(\"\\nPython Keywords:\")\n",
        "print(keyword.kwlist)"
      ],
      "execution_count": null,
      "outputs": []
    },
    {
      "cell_type": "code",
      "metadata": {
        "id": "25c668ce"
      },
      "source": [
        "#4.Write a program that checks if a given word is a Python keyword.\n",
        "import keyword\n",
        "def is_python_keyword(word):\n",
        "  \"\"\"Checks if a given word is a Python keyword.\"\"\"\n",
        "  return word in keyword.kwlist\n",
        "word_to_check = \"for\"\n",
        "if is_python_keyword(word_to_check):\n",
        "  print(f\"\\n'{word_to_check}' is a Python keyword.\")\n",
        "else:\n",
        "  print(f\"\\n'{word_to_check}' is not a Python keyword.\")"
      ],
      "execution_count": null,
      "outputs": []
    },
    {
      "cell_type": "code",
      "metadata": {
        "id": "1b7085ab"
      },
      "source": [
        "#5.Create a list and tuple in Python, and demonstrate how attempting to change an element works differently for each.\n",
        "my_list = [10, 20, 30]\n",
        "my_tuple = (100, 200, 300)\n",
        "print(\"\\nDemonstrating mutability of lists and immutability of tuples:\")\n",
        "print(\"Original list:\", my_list)\n",
        "print(\"Original tuple:\", my_tuple)\n",
        "# Attempting to change a list element\n",
        "print(\"\\nAttempting to change a list element:\")\n",
        "try:\n",
        "  my_list[0] = 15\n",
        "  print(\"List after changing element:\", my_list)\n",
        "except TypeError as e:\n",
        "  print(\"Error changing list element:\", e)\n",
        "# Attempting to change a tuple element\n",
        "print(\"\\nAttempting to change a tuple element:\")\n",
        "try:\n",
        "  my_tuple[0] = 150\n",
        "  print(\"Tuple after changing element:\", my_tuple)\n",
        "except TypeError as e:\n",
        "  print(\"Error changing tuple element:\", e)"
      ],
      "execution_count": null,
      "outputs": []
    },
    {
      "cell_type": "code",
      "metadata": {
        "id": "76191f14"
      },
      "source": [
        "#6.Write a function to demonstrate the behavior of mutable and immutable arguments.\n",
        "def modify_mutable(my_list):\n",
        "  my_list.append(4)\n",
        "  print(\"Inside modify_mutable:\", my_list)\n",
        "def modify_immutable(my_string):\n",
        "  my_string += \" World!\"\n",
        "  print(\"Inside modify_immutable:\", my_string)\n",
        "mutable_list = [1, 2, 3]\n",
        "immutable_string = \"Hello\"\n",
        "\n",
        "print(\"\\nDemonstrating mutable arguments:\")\n",
        "print(\"Before calling modify_mutable:\", mutable_list)\n",
        "modify_mutable(mutable_list)\n",
        "print(\"After calling modify_mutable:\", mutable_list)\n",
        "\n",
        "print(\"\\nDemonstrating immutable arguments:\")\n",
        "print(\"Before calling modify_immutable:\", immutable_string)\n",
        "modify_immutable(immutable_string)\n",
        "print(\"After calling modify_immutable:\", immutable_string)"
      ],
      "execution_count": null,
      "outputs": []
    },
    {
      "cell_type": "code",
      "metadata": {
        "id": "21207ee7"
      },
      "source": [
        "# 7. Write a program that performs basic arithmetic operations on two user-input numbers.\n",
        "try:\n",
        "  num1 = float(input(\"\\nEnter the first number for arithmetic operations: \"))\n",
        "  num2 = float(input(\"Enter the second number for arithmetic operations: \"))\n",
        "\n",
        "  print(f\"{num1} + {num2} = {num1 + num2}\")\n",
        "  print(f\"{num1} - {num2} = {num1 - num2}\")\n",
        "  print(f\"{num1} * {num2} = {num1 * num2}\")\n",
        "  if num2 != 0:\n",
        "    print(f\"{num1} / {num2} = {num1 / num2}\")\n",
        "  else:\n",
        "    print(\"Division by zero is not allowed.\")\n",
        "except ValueError:\n",
        "  print(\"Invalid input. Please enter numbers.\")"
      ],
      "execution_count": null,
      "outputs": []
    },
    {
      "cell_type": "code",
      "metadata": {
        "id": "9aaaa0b2"
      },
      "source": [
        "# 8. Write a program to demonstrate the use of logical operators.\n",
        "x = 10\n",
        "y = 5\n",
        "z = 15\n",
        "\n",
        "print(\"\\nDemonstrating logical operators:\")\n",
        "print(f\"({x} > {y}) and ({y} < {z}): {(x > y) and (y < z)}\")\n",
        "print(f\"({x} < {y}) or ({y} < {z}): {(x < y) or (y < z)}\")\n",
        "print(f\"not ({x} > {y}): {not (x > y)}\")"
      ],
      "execution_count": null,
      "outputs": []
    },
    {
      "cell_type": "code",
      "metadata": {
        "id": "24e23b6b"
      },
      "source": [
        "# 9. Write a Python program to convert user input from string to integer, float, and boolean types.\n",
        "user_string = input(\"\\nEnter a value to convert to different types: \")\n",
        "\n",
        "try:\n",
        "  int_value = int(user_string)\n",
        "  print(f\"Converted to integer: {int_value}\")\n",
        "except ValueError:\n",
        "  print(f\"Could not convert '{user_string}' to integer.\")\n",
        "\n",
        "try:\n",
        "  float_value = float(user_string)\n",
        "  print(f\"Converted to float: {float_value}\")\n",
        "except ValueError:\n",
        "  print(f\"Could not convert '{user_string}' to float.\")\n",
        "\n",
        "# For boolean conversion, we can check for specific string values\n",
        "bool_value = user_string.lower() == 'true' or user_string == '1'\n",
        "print(f\"Converted to boolean (based on 'true' or '1'): {bool_value}\")"
      ],
      "execution_count": null,
      "outputs": []
    },
    {
      "cell_type": "code",
      "metadata": {
        "id": "8508a4c1"
      },
      "source": [
        "# 10. Write code to demonstrate type casting with list elements.\n",
        "list_with_mixed_types = [\"1\", \"2.5\", \"3\", \"4.0\"]\n",
        "print(\"\\nOriginal list with mixed types:\", list_with_mixed_types)\n",
        "\n",
        "# Convert elements to integers\n",
        "int_list = []\n",
        "for item in list_with_mixed_types:\n",
        "  try:\n",
        "    int_list.append(int(float(item))) # Convert to float first to handle \"4.0\"\n",
        "  except ValueError:\n",
        "    int_list.append(None) # Or handle the error as needed\n",
        "\n",
        "print(\"List after casting to integers:\", int_list)\n",
        "\n",
        "# Convert elements to floats\n",
        "float_list = []\n",
        "for item in list_with_mixed_types:\n",
        "  try:\n",
        "    float_list.append(float(item))\n",
        "  except ValueError:\n",
        "    float_list.append(None) # Or handle the error as needed\n",
        "\n",
        "print(\"List after casting to floats:\", float_list)"
      ],
      "execution_count": null,
      "outputs": []
    },
    {
      "cell_type": "code",
      "metadata": {
        "colab": {
          "base_uri": "https://localhost:8080/"
        },
        "id": "59d443c0",
        "outputId": "82f23b48-e619-4a85-a791-062a20666b6b"
      },
      "source": [
        "# 11. Write a program that checks if a number is positive, negative, or zero.\n",
        "try:\n",
        "  number_to_check = float(input(\"\\nEnter a number to check if it's positive, negative, or zero: \"))\n",
        "  if number_to_check > 0:\n",
        "    print(f\"{number_to_check} is positive.\")\n",
        "  elif number_to_check < 0:\n",
        "    print(f\"{number_to_check} is negative.\")\n",
        "  else:\n",
        "    print(f\"{number_to_check} is zero.\")\n",
        "except ValueError:\n",
        "  print(\"Invalid input. Please enter a number.\")"
      ],
      "execution_count": 8,
      "outputs": [
        {
          "output_type": "stream",
          "name": "stdout",
          "text": [
            "\n",
            "Enter a number to check if it's positive, negative, or zero: -01\n",
            "-1.0 is negative.\n"
          ]
        }
      ]
    },
    {
      "cell_type": "code",
      "metadata": {
        "id": "5cb940cf"
      },
      "source": [
        "# 12. Write a for loop to print numbers from 1 to 10.\n",
        "print(\"\\nNumbers from 1 to 10 using a for loop:\")\n",
        "for i in range(1, 11):\n",
        "  print(i)"
      ],
      "execution_count": null,
      "outputs": []
    },
    {
      "cell_type": "code",
      "metadata": {
        "id": "623d4bb0"
      },
      "source": [
        "# 13. Write a Python program to find the sum of all even numbers between 1 and 50.\n",
        "sum_of_evens = 0\n",
        "for i in range(2, 51, 2):\n",
        "  sum_of_evens += i\n",
        "print(f\"\\nThe sum of even numbers between 1 and 50 is: {sum_of_evens}\")"
      ],
      "execution_count": null,
      "outputs": []
    },
    {
      "cell_type": "code",
      "metadata": {
        "id": "9261f55b"
      },
      "source": [
        "# 14. Write a program to reverse a string using a while loop.\n",
        "string_to_reverse = input(\"\\nEnter a string to reverse: \")\n",
        "reversed_string = \"\"\n",
        "index = len(string_to_reverse) - 1\n",
        "\n",
        "while index >= 0:\n",
        "  reversed_string += string_to_reverse[index]\n",
        "  index -= 1\n",
        "\n",
        "print(f\"Reversed string: {reversed_string}\")"
      ],
      "execution_count": null,
      "outputs": []
    },
    {
      "cell_type": "code",
      "metadata": {
        "id": "dd8ffb6c"
      },
      "source": [
        "# 15. Write a Python program to calculate the factorial of a number provided by the user using a while loop.\n",
        "try:\n",
        "  num_factorial = int(input(\"\\nEnter a non-negative integer to calculate its factorial: \"))\n",
        "  if num_factorial < 0:\n",
        "    print(\"Factorial is not defined for negative numbers.\")\n",
        "  elif num_factorial == 0:\n",
        "    print(\"The factorial of 0 is 1.\")\n",
        "  else:\n",
        "    factorial = 1\n",
        "    i = 1\n",
        "    while i <= num_factorial:\n",
        "      factorial *= i\n",
        "      i += 1\n",
        "    print(f\"The factorial of {num_factorial} is: {factorial}\")\n",
        "except ValueError:\n",
        "  print(\"Invalid input. Please enter an integer.\")"
      ],
      "execution_count": null,
      "outputs": []
    }
  ]
}